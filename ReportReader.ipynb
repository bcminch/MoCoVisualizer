{
 "cells": [
  {
   "cell_type": "code",
   "execution_count": null,
   "metadata": {},
   "outputs": [],
   "source": [
    "import pandas as pd\n",
    "import numpy as np\n",
    "from ipywidgets import widgets"
   ]
  },
  {
   "cell_type": "code",
   "execution_count": null,
   "metadata": {},
   "outputs": [],
   "source": [
    "df = pd.read_excel('report.xlsx')"
   ]
  },
  {
   "cell_type": "code",
   "execution_count": null,
   "metadata": {},
   "outputs": [],
   "source": [
    "df[~np.isnan(df['Sale Price'])==True]"
   ]
  },
  {
   "cell_type": "code",
   "execution_count": null,
   "metadata": {},
   "outputs": [],
   "source": [
    "df.describe()"
   ]
  },
  {
   "cell_type": "code",
   "execution_count": null,
   "metadata": {},
   "outputs": [],
   "source": [
    "on_sale = widgets.Checkbox(description='On Sale?',value=False,)\n",
    "price = widgets.IntRangeSlider(description='Price Range:',\n",
    "                               value=(0,max(df.Price)+1),\n",
    "                               min=0,max=max(df.Price)+1)\n",
    "size = widgets.SelectMultiple(description='Size:',\n",
    "                              options=df.Size.unique().tolist())\n",
    "go_button = widgets.Button(description='Go!')\n",
    "out = widgets.Output(layout={'border': '1px solid black'})\n",
    "\n",
    "def showFilteredList(button_press):\n",
    "    out.clear_output()\n",
    "    temp = df[~np.isnan(df['Sale Price'])==on_sale.value]\n",
    "    temp = temp[np.logical_and(temp.Price>=price.value[0],\n",
    "                               temp.Price<=price.value[1])]\n",
    "    temp = temp[temp.Size==size.value[0]]\n",
    "    with out:\n",
    "        display(temp)\n",
    "go_button.on_click(showFilteredList)\n",
    "\n",
    "widgets.VBox([on_sale,price,size,go_button,out])"
   ]
  },
  {
   "cell_type": "code",
   "execution_count": null,
   "metadata": {},
   "outputs": [],
   "source": []
  }
 ],
 "metadata": {
  "kernelspec": {
   "display_name": "Python [conda env:MoCoVisualizer]",
   "language": "python",
   "name": "conda-env-MoCoVisualizer-py"
  },
  "language_info": {
   "codemirror_mode": {
    "name": "ipython",
    "version": 3
   },
   "file_extension": ".py",
   "mimetype": "text/x-python",
   "name": "python",
   "nbconvert_exporter": "python",
   "pygments_lexer": "ipython3",
   "version": "3.6.6"
  }
 },
 "nbformat": 4,
 "nbformat_minor": 2
}
